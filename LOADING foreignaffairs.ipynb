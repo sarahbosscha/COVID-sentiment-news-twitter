{
 "cells": [
  {
   "cell_type": "code",
   "execution_count": 13,
   "metadata": {},
   "outputs": [],
   "source": [
    "import requests\n",
    "from bs4 import BeautifulSoup\n",
    "import numpy as np\n",
    "import pandas as pd\n",
    "import time\n",
    "import json"
   ]
  },
  {
   "cell_type": "markdown",
   "metadata": {},
   "source": [
    "Error with url's 404"
   ]
  },
  {
   "cell_type": "markdown",
   "metadata": {},
   "source": [
    "https://api.altmetric.com/v1/fetch/doi/10.1148/radiol.2020201544?key=bfc9115e2490100d074ded6a3a2cb845"
   ]
  },
  {
   "cell_type": "code",
   "execution_count": 14,
   "metadata": {},
   "outputs": [],
   "source": [
    "# url = 'https://foreignaffairs.co.nz/2020/03/27/how-can-i-treat-myself-if-ive-got-or-think-ive-got-coronavirus-134654/'"
   ]
  },
  {
   "cell_type": "code",
   "execution_count": 20,
   "metadata": {},
   "outputs": [],
   "source": [
    "#API list of DOI's of COVID-19 articles, written >2020 and have an citation of this journal\n",
    "\n",
    "all_foreign_API = ['https://api.altmetric.com/v1/fetch/doi/10.1002/jmv.25805?key=bfc9115e2490100d074ded6a3a2cb845', \n",
    "'https://api.altmetric.com/v1/fetch/doi/10.1038/s41586-020-2169-0?key=bfc9115e2490100d074ded6a3a2cb845', \n",
    "'https://api.altmetric.com/v1/fetch/doi/10.1101/2020.04.10.20061036?key=bfc9115e2490100d074ded6a3a2cb845', \n",
    "'https://api.altmetric.com/v1/fetch/doi/10.1101/2020.03.11.20031096?key=bfc9115e2490100d074ded6a3a2cb845', \n",
    "'https://api.altmetric.com/v1/fetch/doi/10.12932/ap-200220-0772?key=bfc9115e2490100d074ded6a3a2cb845', \n",
    "'https://api.altmetric.com/v1/fetch/doi/10.1038/s41591-020-0819-2?key=bfc9115e2490100d074ded6a3a2cb845', \n",
    "'https://api.altmetric.com/v1/fetch/doi/10.1038/s41591-020-0819-2?key=bfc9115e2490100d074ded6a3a2cb845', \n",
    "'https://api.altmetric.com/v1/fetch/doi/10.1101/2020.04.23.20076042?key=bfc9115e2490100d074ded6a3a2cb845', \n",
    "'https://api.altmetric.com/v1/fetch/doi/10.1101/2020.04.12.20062679?key=bfc9115e2490100d074ded6a3a2cb845', \n",
    "'https://api.altmetric.com/v1/fetch/doi/10.1002/jmv.25761?key=bfc9115e2490100d074ded6a3a2cb845', \n",
    "'https://api.altmetric.com/v1/fetch/doi/10.1056/nejmc2009787?key=bfc9115e2490100d074ded6a3a2cb845', \n",
    "'https://api.altmetric.com/v1/fetch/doi/10.2139/ssrn.3549276?key=bfc9115e2490100d074ded6a3a2cb845', \n",
    "'https://api.altmetric.com/v1/fetch/doi/10.1001/jama.2020.4742?key=bfc9115e2490100d074ded6a3a2cb845', \n",
    "'https://api.altmetric.com/v1/fetch/doi/10.1111/jocn.15296?key=bfc9115e2490100d074ded6a3a2cb845', \n",
    "'https://api.altmetric.com/v1/fetch/doi/10.1056/nejmc2001899?key=bfc9115e2490100d074ded6a3a2cb845', \n",
    "'https://api.altmetric.com/v1/fetch/doi/10.1056/nejmc2001899?key=bfc9115e2490100d074ded6a3a2cb845', \n",
    "'https://api.altmetric.com/v1/fetch/doi/10.1056/nejmc2005073?key=bfc9115e2490100d074ded6a3a2cb845', \n",
    "'https://api.altmetric.com/v1/fetch/doi/10.1016/j.kint.2020.03.001?key=bfc9115e2490100d074ded6a3a2cb845', \n",
    "'https://api.altmetric.com/v1/fetch/doi/10.1101/2020.03.21.001628?key=bfc9115e2490100d074ded6a3a2cb845', \n",
    "'https://api.altmetric.com/v1/fetch/doi/10.1177/0141076820921107?key=bfc9115e2490100d074ded6a3a2cb845', \n",
    "'https://api.altmetric.com/v1/fetch/doi/10.1016/j.jpha.2020.03.001?key=bfc9115e2490100d074ded6a3a2cb845', \n",
    "'https://api.altmetric.com/v1/fetch/doi/10.1016/j.jpha.2020.03.001?key=bfc9115e2490100d074ded6a3a2cb845', \n",
    "'https://api.altmetric.com/v1/fetch/doi/10.1016/j.jpha.2020.03.001?key=bfc9115e2490100d074ded6a3a2cb845', \n",
    "'https://api.altmetric.com/v1/fetch/doi/10.1002/oby.22838?key=bfc9115e2490100d074ded6a3a2cb845', \n",
    "'https://api.altmetric.com/v1/fetch/doi/10.1002/oby.22838?key=bfc9115e2490100d074ded6a3a2cb845', \n",
    "'https://api.altmetric.com/v1/fetch/doi/10.5582/bst.2020.01047?key=bfc9115e2490100d074ded6a3a2cb845', \n",
    "'https://api.altmetric.com/v1/fetch/doi/10.1056/nejmp2003539?key=bfc9115e2490100d074ded6a3a2cb845', \n",
    "'https://api.altmetric.com/v1/fetch/doi/10.1056/nejmp2003539?key=bfc9115e2490100d074ded6a3a2cb845', \n",
    "'https://api.altmetric.com/v1/fetch/doi/10.3201/eid2602.190697?key=bfc9115e2490100d074ded6a3a2cb845', \n",
    "'https://api.altmetric.com/v1/fetch/doi/10.1016/j.jgar.2020.02.021?key=bfc9115e2490100d074ded6a3a2cb845', \n",
    "'https://api.altmetric.com/v1/fetch/doi/10.1101/2020.04.04.20053058?key=bfc9115e2490100d074ded6a3a2cb845', \n",
    "'https://api.altmetric.com/v1/fetch/doi/10.1503/cmaj.200476?key=bfc9115e2490100d074ded6a3a2cb845']"
   ]
  },
  {
   "cell_type": "code",
   "execution_count": 21,
   "metadata": {},
   "outputs": [],
   "source": [
    "def get_json_from_page(url):\n",
    "    res = requests.get(url)\n",
    "    html_page = res.content\n",
    "\n",
    "    soup = BeautifulSoup(html_page, \"lxml\")\n",
    "\n",
    "    dictionary = json.loads(res.content)\n",
    "    return dictionary\n",
    "\n",
    "def get_all_news(dictionary):\n",
    "    url_news = []\n",
    "    for news in dictionary['posts']['news']:\n",
    "        if news['name'] == 'yahoo':\n",
    "            url = news['url']\n",
    "            print(dictionary['doi'])\n",
    "            url_news.append(url)\n",
    "        if news['name'] == 'YAHOO':\n",
    "            url = news['url']\n",
    "            url_news.append(url)\n",
    "#     print(url_tweets)\n",
    "    return url_news\n"
   ]
  },
  {
   "cell_type": "code",
   "execution_count": 18,
   "metadata": {
    "scrolled": true
   },
   "outputs": [
    {
     "name": "stdout",
     "output_type": "stream",
     "text": [
      "http://ct.moreover.com/?a=42036802089&p=1pl&v=1&x=y0F8iMBu7shsiMFUTRyZKg\n",
      "http://ct.moreover.com/?a=41754884577&p=1pl&v=1&x=cpqvZ5-2EYPdrDzMwoAcLg\n",
      "http://ct.moreover.com/?a=42084375737&p=1pl&v=1&x=a3jJ1nZx7NFf-nFCQVf-wA\n",
      "http://ct.moreover.com/?a=41657224669&p=1pl&v=1&x=KTqsW6OPP-T20QD5gz_ChQ\n",
      "http://ct.moreover.com/?a=41696562362&p=1pl&v=1&x=CGvuJYyJsO-35iYb918l_A\n",
      "http://ct.moreover.com/?a=41744435952&p=1pl&v=1&x=FJT434coIOLj99hWM1cLNw\n",
      "http://ct.moreover.com/?a=42052099051&p=1pl&v=1&x=7nCdIrsjR6PJ_KoJIDlgSg\n",
      "http://ct.moreover.com/?a=41713885740&p=1pl&v=1&x=bq3TfevdOJINEaApp28Cmw\n",
      "http://ct.moreover.com/?a=41650247268&p=1pl&v=1&x=4Bcsp1IWAVcQuZW-uyHlfg\n",
      "http://ct.moreover.com/?a=41650247268&p=1pl&v=1&x=4Bcsp1IWAVcQuZW-uyHlfg\n",
      "http://ct.moreover.com/?a=42003485961&p=1pl&v=1&x=1dmI1xPijBtwpCR1_712Vg\n",
      "http://ct.moreover.com/?a=42143542000&p=1pl&v=1&x=y8Q6Om6QDxPXeC14G3krkQ\n",
      "http://ct.moreover.com/?a=42253853537&p=1pl&v=1&x=4xQ6kOqsEUTGc0mJGN8DeQ\n",
      "http://ct.moreover.com/?a=42328834422&p=1pl&v=1&x=z74jW-3taj-uLHKX5UlsLw\n",
      "http://ct.moreover.com/?a=41953851546&p=1pl&v=1&x=bd5GKtk-zBLjVlRxokxhwA\n",
      "http://ct.moreover.com/?a=41655485417&p=1pl&v=1&x=GtuFwY4eWQnv1K_BYz2oVg\n",
      "http://ct.moreover.com/?a=42003775280&p=1pl&v=1&x=RvJcYY-qC48kSRqPVScajg\n",
      "http://ct.moreover.com/?a=42118703187&p=1pl&v=1&x=R1ufM3Iq3mkOpQeyR93J-w\n",
      "http://ct.moreover.com/?a=41617577408&p=1pl&v=1&x=cP4V3118Edpjz5ajhsmtpQ\n",
      "http://ct.moreover.com/?a=41660071138&p=1pl&v=1&x=j2MyZ7DcxDLy7JhS8ZqDCw\n",
      "http://ct.moreover.com/?a=41827049039&p=1pl&v=1&x=BVeyZBKDCM2plWsv2v0mTg\n",
      "http://ct.moreover.com/?a=42330096006&p=1pl&v=1&x=ypU15qX7bMg61PyuS7iCsw\n",
      "http://ct.moreover.com/?a=41996877078&p=1pl&v=1&x=kVNRKDeDDzWIbvO-lKqPpQ\n",
      "http://ct.moreover.com/?a=42147562691&p=1pl&v=1&x=7ZrUMkZfmGSXyNCrj57JwQ\n",
      "http://ct.moreover.com/?a=41428304578&p=1pl&v=1&x=hihpb74UUUUV_izvLQ72dA\n",
      "http://ct.moreover.com/?a=41428304578&p=1pl&v=1&x=hihpb74UUUUV_izvLQ72dA\n",
      "http://ct.moreover.com/?a=41716676205&p=1pl&v=1&x=Phc7p_0zFrPhKz_AeGTFGA\n",
      "http://ct.moreover.com/?a=42001968064&p=1pl&v=1&x=LDHvtFwntUc59EOe3w3HuA\n",
      "http://ct.moreover.com/?a=41672176056&p=1pl&v=1&x=_Qr_j4yct49d1p9-s3qMdQ\n",
      "http://ct.moreover.com/?a=41902379167&p=1pl&v=1&x=hKCRYicT6GpA6zeLDg5Iog\n",
      "http://ct.moreover.com/?a=41934776690&p=1pl&v=1&x=g9n7-GBi46c75mi432eXcA\n",
      "http://ct.moreover.com/?a=41927437683&p=1pl&v=1&x=buLcGkYtYp-i0UzxHLINSA\n",
      "http://ct.moreover.com/?a=41927437683&p=1pl&v=1&x=buLcGkYtYp-i0UzxHLINSA\n",
      "http://ct.moreover.com/?a=41927437683&p=1pl&v=1&x=buLcGkYtYp-i0UzxHLINSA\n",
      "http://ct.moreover.com/?a=42010849069&p=1pl&v=1&x=-Ts-lTY8uK9EaK4h_iJfQA\n",
      "http://ct.moreover.com/?a=42010849069&p=1pl&v=1&x=-Ts-lTY8uK9EaK4h_iJfQA\n",
      "http://ct.moreover.com/?a=41721280405&p=1pl&v=1&x=ta-96r3UiKZniqJcZHohKA\n",
      "http://ct.moreover.com/?a=41801609365&p=1pl&v=1&x=EyP5-1F8rpmskQTay-Opag\n",
      "http://ct.moreover.com/?a=41801609365&p=1pl&v=1&x=EyP5-1F8rpmskQTay-Opag\n",
      "http://ct.moreover.com/?a=41880524233&p=1pl&v=1&x=MXmbVTDO21jMbY13BRWSsg\n",
      "http://ct.moreover.com/?a=41836028423&p=1pl&v=1&x=uCQ0HcKCp2CTdzg33Qy8tA\n",
      "http://ct.moreover.com/?a=41957497279&p=1pl&v=1&x=LW_tLCXMFb7L_0swGBOoIw\n",
      "http://ct.moreover.com/?a=42139710145&p=1pl&v=1&x=RTPWv8D2K7QtolXaoIBtiA\n",
      "http://ct.moreover.com/?a=42157422353&p=1pl&v=1&x=Hq7oyusTi8A8HqOMAUmqJQ\n",
      "http://ct.moreover.com/?a=41931428870&p=1pl&v=1&x=gKlO8XeIn1pxGjlNc1QmVQ\n",
      "['http://ct.moreover.com/?a=41931428870&p=1pl&v=1&x=gKlO8XeIn1pxGjlNc1QmVQ']\n"
     ]
    }
   ],
   "source": [
    "#Receive all url's of the news articles\n",
    "\n",
    "list = all_foreign_API\n",
    "for i in list:\n",
    "    dictionary = get_json_from_page(i)\n",
    "    url_news = []\n",
    "    for news in dictionary['posts']['news']:\n",
    "        if news['author']['name'] == 'foreign_affairs_new_zealand':\n",
    "            url = news['url']\n",
    "            print(url)\n",
    "            url_news.append(url)\n",
    "        if news['author']['name'] == 'Foreign Affairs New Zealand':\n",
    "            url = news['url']\n",
    "            print(url)\n",
    "            url_news.append(url)\n",
    "#     print(url_tweets)\n",
    "    \n",
    "print(url_news)\n",
    "\n",
    "    #print(dictionary)\n",
    "#     get_all_news(dictionary)"
   ]
  },
  {
   "cell_type": "code",
   "execution_count": 19,
   "metadata": {},
   "outputs": [],
   "source": [
    "all_foreign = ['http://ct.moreover.com/?a=42036802089&p=1pl&v=1&x=y0F8iMBu7shsiMFUTRyZKg', \n",
    "'http://ct.moreover.com/?a=41754884577&p=1pl&v=1&x=cpqvZ5-2EYPdrDzMwoAcLg', \n",
    "'http://ct.moreover.com/?a=42084375737&p=1pl&v=1&x=a3jJ1nZx7NFf-nFCQVf-wA', \n",
    "'http://ct.moreover.com/?a=41657224669&p=1pl&v=1&x=KTqsW6OPP-T20QD5gz_ChQ', \n",
    "'http://ct.moreover.com/?a=41696562362&p=1pl&v=1&x=CGvuJYyJsO-35iYb918l_A', \n",
    "'http://ct.moreover.com/?a=41744435952&p=1pl&v=1&x=FJT434coIOLj99hWM1cLNw', \n",
    "'http://ct.moreover.com/?a=42052099051&p=1pl&v=1&x=7nCdIrsjR6PJ_KoJIDlgSg', \n",
    "'http://ct.moreover.com/?a=41713885740&p=1pl&v=1&x=bq3TfevdOJINEaApp28Cmw', \n",
    "'http://ct.moreover.com/?a=41650247268&p=1pl&v=1&x=4Bcsp1IWAVcQuZW-uyHlfg', \n",
    "'http://ct.moreover.com/?a=41650247268&p=1pl&v=1&x=4Bcsp1IWAVcQuZW-uyHlfg', \n",
    "'http://ct.moreover.com/?a=42003485961&p=1pl&v=1&x=1dmI1xPijBtwpCR1_712Vg', \n",
    "'http://ct.moreover.com/?a=42143542000&p=1pl&v=1&x=y8Q6Om6QDxPXeC14G3krkQ', \n",
    "'http://ct.moreover.com/?a=42253853537&p=1pl&v=1&x=4xQ6kOqsEUTGc0mJGN8DeQ', \n",
    "'http://ct.moreover.com/?a=42328834422&p=1pl&v=1&x=z74jW-3taj-uLHKX5UlsLw', \n",
    "'http://ct.moreover.com/?a=41953851546&p=1pl&v=1&x=bd5GKtk-zBLjVlRxokxhwA', \n",
    "'http://ct.moreover.com/?a=41655485417&p=1pl&v=1&x=GtuFwY4eWQnv1K_BYz2oVg', \n",
    "'http://ct.moreover.com/?a=42003775280&p=1pl&v=1&x=RvJcYY-qC48kSRqPVScajg', \n",
    "'http://ct.moreover.com/?a=42118703187&p=1pl&v=1&x=R1ufM3Iq3mkOpQeyR93J-w', \n",
    "'http://ct.moreover.com/?a=41617577408&p=1pl&v=1&x=cP4V3118Edpjz5ajhsmtpQ', \n",
    "'http://ct.moreover.com/?a=41660071138&p=1pl&v=1&x=j2MyZ7DcxDLy7JhS8ZqDCw', \n",
    "'http://ct.moreover.com/?a=41827049039&p=1pl&v=1&x=BVeyZBKDCM2plWsv2v0mTg', \n",
    "'http://ct.moreover.com/?a=42330096006&p=1pl&v=1&x=ypU15qX7bMg61PyuS7iCsw', \n",
    "'http://ct.moreover.com/?a=41996877078&p=1pl&v=1&x=kVNRKDeDDzWIbvO-lKqPpQ', \n",
    "'http://ct.moreover.com/?a=42147562691&p=1pl&v=1&x=7ZrUMkZfmGSXyNCrj57JwQ', \n",
    "'http://ct.moreover.com/?a=41428304578&p=1pl&v=1&x=hihpb74UUUUV_izvLQ72dA', \n",
    "'http://ct.moreover.com/?a=41428304578&p=1pl&v=1&x=hihpb74UUUUV_izvLQ72dA', \n",
    "'http://ct.moreover.com/?a=41716676205&p=1pl&v=1&x=Phc7p_0zFrPhKz_AeGTFGA', \n",
    "'http://ct.moreover.com/?a=42001968064&p=1pl&v=1&x=LDHvtFwntUc59EOe3w3HuA', \n",
    "'http://ct.moreover.com/?a=41672176056&p=1pl&v=1&x=_Qr_j4yct49d1p9-s3qMdQ', \n",
    "'http://ct.moreover.com/?a=41902379167&p=1pl&v=1&x=hKCRYicT6GpA6zeLDg5Iog', \n",
    "'http://ct.moreover.com/?a=41934776690&p=1pl&v=1&x=g9n7-GBi46c75mi432eXcA', \n",
    "'http://ct.moreover.com/?a=41927437683&p=1pl&v=1&x=buLcGkYtYp-i0UzxHLINSA', \n",
    "'http://ct.moreover.com/?a=41927437683&p=1pl&v=1&x=buLcGkYtYp-i0UzxHLINSA', \n",
    "'http://ct.moreover.com/?a=41927437683&p=1pl&v=1&x=buLcGkYtYp-i0UzxHLINSA', \n",
    "'http://ct.moreover.com/?a=42010849069&p=1pl&v=1&x=-Ts-lTY8uK9EaK4h_iJfQA', \n",
    "'http://ct.moreover.com/?a=42010849069&p=1pl&v=1&x=-Ts-lTY8uK9EaK4h_iJfQA', \n",
    "'http://ct.moreover.com/?a=41721280405&p=1pl&v=1&x=ta-96r3UiKZniqJcZHohKA', \n",
    "'http://ct.moreover.com/?a=41801609365&p=1pl&v=1&x=EyP5-1F8rpmskQTay-Opag', \n",
    "'http://ct.moreover.com/?a=41801609365&p=1pl&v=1&x=EyP5-1F8rpmskQTay-Opag', \n",
    "'http://ct.moreover.com/?a=41880524233&p=1pl&v=1&x=MXmbVTDO21jMbY13BRWSsg', \n",
    "'http://ct.moreover.com/?a=41836028423&p=1pl&v=1&x=uCQ0HcKCp2CTdzg33Qy8tA', \n",
    "'http://ct.moreover.com/?a=41957497279&p=1pl&v=1&x=LW_tLCXMFb7L_0swGBOoIw', \n",
    "'http://ct.moreover.com/?a=42139710145&p=1pl&v=1&x=RTPWv8D2K7QtolXaoIBtiA', \n",
    "'http://ct.moreover.com/?a=42157422353&p=1pl&v=1&x=Hq7oyusTi8A8HqOMAUmqJQ', \n",
    "'http://ct.moreover.com/?a=41931428870&p=1pl&v=1&x=gKlO8XeIn1pxGjlNc1QmVQ', \n",
    "'http://ct.moreover.com/?a=41931428870&p=1pl&v=1&x=gKlO8XeIn1pxGjlNc1QmVQ']"
   ]
  },
  {
   "cell_type": "code",
   "execution_count": 22,
   "metadata": {},
   "outputs": [
    {
     "data": {
      "text/plain": [
       "0"
      ]
     },
     "execution_count": 22,
     "metadata": {},
     "output_type": "execute_result"
    }
   ],
   "source": [
    "# Request\n",
    "r1 = requests.get(url)\n",
    "r1.status_code\n",
    "\n",
    "# We'll save in coverpage the cover page content\n",
    "coverpage = r1.content\n",
    "\n",
    "# Soup creation\n",
    "soup1 = BeautifulSoup(coverpage, 'html.parser')\n",
    "\n",
    "# News identification\n",
    "coverpage_news = soup1.find_all('div', class_='td-post-content')\n",
    "len(coverpage_news)"
   ]
  },
  {
   "cell_type": "code",
   "execution_count": null,
   "metadata": {},
   "outputs": [],
   "source": [
    "# Empty lists for content, links and titles\n",
    "news_contents = []\n",
    "list_titles = []\n",
    "\n",
    "for link in all_foreign:\n",
    "    title = requests.get(link)\n",
    "    title_content = title.content\n",
    "    soup_article = BeautifulSoup(title_content, 'html.parser')\n",
    "    body = soup_article.find_all('header', class_='canvas-header')\n",
    "    y = body[0].find_all('h1')\n",
    "\n",
    "    # Unifying the paragraphs\n",
    "    list_paragraphs = []\n",
    "    for p in np.arange(0, len(y)):\n",
    "        paragraph = y[p].get_text()\n",
    "        list_paragraphs.append(paragraph)\n",
    "        final_title = \" \".join(list_paragraphs)\n",
    "        print('TITLE:',final_title)\n",
    "    list_titles.append(final_title)\n",
    "\n",
    "\n",
    "    # Reading the content (it is divided in paragraphs)\n",
    "    article = requests.get(link)\n",
    "    article_content = article.content\n",
    "    soup_article = BeautifulSoup(article_content, 'html.parser')\n",
    "    body = soup_article.find_all('article', itemprop='articleBody')\n",
    "    x = body[0].find_all('p')\n",
    "\n",
    "    # Unifying the paragraphs\n",
    "    list_paragraphs = []\n",
    "    for p in np.arange(0, len(x)):\n",
    "        paragraph = x[p].get_text()\n",
    "        list_paragraphs.append(paragraph)\n",
    "        final_article = \" \".join(list_paragraphs)\n",
    "        print('ARTICLE:', final_article)\n",
    "\n",
    "    news_contents.append(final_article)"
   ]
  },
  {
   "cell_type": "code",
   "execution_count": 8,
   "metadata": {},
   "outputs": [
    {
     "ename": "IndexError",
     "evalue": "list index out of range",
     "output_type": "error",
     "traceback": [
      "\u001b[0;31m---------------------------------------------------------------------------\u001b[0m",
      "\u001b[0;31mIndexError\u001b[0m                                Traceback (most recent call last)",
      "\u001b[0;32m<ipython-input-8-025b32a8f319>\u001b[0m in \u001b[0;36m<module>\u001b[0;34m\u001b[0m\n\u001b[1;32m     17\u001b[0m \u001b[0msoup_article\u001b[0m \u001b[0;34m=\u001b[0m \u001b[0mBeautifulSoup\u001b[0m\u001b[0;34m(\u001b[0m\u001b[0marticle_content\u001b[0m\u001b[0;34m,\u001b[0m \u001b[0;34m'html.parser'\u001b[0m\u001b[0;34m)\u001b[0m\u001b[0;34m\u001b[0m\u001b[0;34m\u001b[0m\u001b[0m\n\u001b[1;32m     18\u001b[0m \u001b[0mbody\u001b[0m \u001b[0;34m=\u001b[0m \u001b[0msoup_article\u001b[0m\u001b[0;34m.\u001b[0m\u001b[0mfind_all\u001b[0m\u001b[0;34m(\u001b[0m\u001b[0;34m'div'\u001b[0m\u001b[0;34m,\u001b[0m \u001b[0mclass_\u001b[0m\u001b[0;34m=\u001b[0m\u001b[0;34m'td-post-content'\u001b[0m\u001b[0;34m)\u001b[0m\u001b[0;34m\u001b[0m\u001b[0;34m\u001b[0m\u001b[0m\n\u001b[0;32m---> 19\u001b[0;31m \u001b[0mx\u001b[0m \u001b[0;34m=\u001b[0m \u001b[0mbody\u001b[0m\u001b[0;34m[\u001b[0m\u001b[0;36m0\u001b[0m\u001b[0;34m]\u001b[0m\u001b[0;34m.\u001b[0m\u001b[0mfind_all\u001b[0m\u001b[0;34m(\u001b[0m\u001b[0;34m'p'\u001b[0m\u001b[0;34m)\u001b[0m\u001b[0;34m\u001b[0m\u001b[0;34m\u001b[0m\u001b[0m\n\u001b[0m\u001b[1;32m     20\u001b[0m \u001b[0;34m\u001b[0m\u001b[0m\n\u001b[1;32m     21\u001b[0m \u001b[0;31m# Unifying the paragraphs\u001b[0m\u001b[0;34m\u001b[0m\u001b[0;34m\u001b[0m\u001b[0;34m\u001b[0m\u001b[0m\n",
      "\u001b[0;31mIndexError\u001b[0m: list index out of range"
     ]
    }
   ],
   "source": [
    "# Empty lists for content, links and titles\n",
    "news_contents = []\n",
    "list_links = []\n",
    "list_titles = []\n",
    "\n",
    "# Getting the link of the article\n",
    "link = url\n",
    "list_links.append(link)\n",
    "\n",
    "# # Getting the title\n",
    "# title = coverpage_news[n].find('a').get_text()\n",
    "# list_titles.append(title)\n",
    "\n",
    "# Reading the content (it is divided in paragraphs)\n",
    "article = requests.get(link)\n",
    "article_content = article.content\n",
    "soup_article = BeautifulSoup(article_content, 'html.parser')\n",
    "body = soup_article.find_all('div', class_='td-post-content')\n",
    "x = body[0].find_all('p')\n",
    "\n",
    "# Unifying the paragraphs\n",
    "list_paragraphs = []\n",
    "for p in np.arange(0, len(x)):\n",
    "    paragraph = x[p].get_text()\n",
    "    list_paragraphs.append(paragraph)\n",
    "    final_article = \" \".join(list_paragraphs)\n",
    "\n",
    "news_contents.append(final_article)"
   ]
  },
  {
   "cell_type": "code",
   "execution_count": null,
   "metadata": {},
   "outputs": [],
   "source": [
    "print(final_article)"
   ]
  },
  {
   "cell_type": "code",
   "execution_count": null,
   "metadata": {},
   "outputs": [],
   "source": []
  }
 ],
 "metadata": {
  "kernelspec": {
   "display_name": "Python 3",
   "language": "python",
   "name": "python3"
  },
  "language_info": {
   "codemirror_mode": {
    "name": "ipython",
    "version": 3
   },
   "file_extension": ".py",
   "mimetype": "text/x-python",
   "name": "python",
   "nbconvert_exporter": "python",
   "pygments_lexer": "ipython3",
   "version": "3.7.4"
  }
 },
 "nbformat": 4,
 "nbformat_minor": 2
}
